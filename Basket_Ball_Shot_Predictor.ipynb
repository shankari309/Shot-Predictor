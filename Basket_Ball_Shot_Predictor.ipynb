{
 "cells": [
  {
   "cell_type": "code",
   "execution_count": 15,
   "id": "979f20f1",
   "metadata": {},
   "outputs": [],
   "source": [
    "import math\n",
    "import cv2\n",
    "import numpy as np\n",
    "import cvzone\n",
    "from cvzone.ColorModule import ColorFinder"
   ]
  },
  {
   "cell_type": "code",
   "execution_count": 123,
   "id": "5df100a2",
   "metadata": {},
   "outputs": [],
   "source": [
    "cap=cv2.VideoCapture(r'Videos\\vid (1).mp4')\n"
   ]
  },
  {
   "cell_type": "code",
   "execution_count": 124,
   "id": "3739a7d3",
   "metadata": {},
   "outputs": [],
   "source": [
    "myColorFinder=ColorFinder(False)\n",
    "hsvVals={'hmin': 8, 'smin': 96, 'vmin': 115, 'hmax': 14, 'smax': 255, 'vmax': 255}\n",
    "\n",
    "# Variables\n",
    "posListX=[]\n",
    "posListY=[]\n",
    "\n",
    "XList=[item for item in range(0,1300)]\n",
    "prediction=False"
   ]
  },
  {
   "cell_type": "code",
   "execution_count": 125,
   "id": "c3c9f739",
   "metadata": {},
   "outputs": [
    {
     "name": "stderr",
     "output_type": "stream",
     "text": [
      "C:\\Users\\HP\\AppData\\Local\\Temp\\ipykernel_17220\\166371283.py:17: RankWarning: Polyfit may be poorly conditioned\n",
      "  A,B,C=np.polyfit(posListX,posListY,2)\n",
      "C:\\Users\\HP\\AppData\\Local\\Temp\\ipykernel_17220\\166371283.py:17: RankWarning: Polyfit may be poorly conditioned\n",
      "  A,B,C=np.polyfit(posListX,posListY,2)\n"
     ]
    }
   ],
   "source": [
    "while True:\n",
    "    success,img=cap.read()\n",
    "    #img=cv2.imread(\"Ball.png\")\n",
    "    if success:\n",
    "        img=img[0:900,:]\n",
    "\n",
    "\n",
    "        #Find the color\n",
    "        imageColor, mask=myColorFinder.update(img,hsvVals)\n",
    "\n",
    "        #Find location of the ball\n",
    "        imgContours,contours=cvzone.findContours(img,mask,minArea=500)\n",
    "        if contours:\n",
    "                posListX.append(contours[0]['center'][0])\n",
    "                posListY.append(contours[0]['center'][1])\n",
    "        if posListX:\n",
    "            A,B,C=np.polyfit(posListX,posListY,2)\n",
    "\n",
    "\n",
    "            for i,(posX,posY) in enumerate(zip(posListX,posListY)):\n",
    "                pos=(posX,posY)\n",
    "\n",
    "                cv2.circle(imgContours,pos,10,(0,255,0),cv2.FILLED)\n",
    "                if(i!=0):\n",
    "                    cv2.line(imgContours,pos,(posListX[i-1],posListY[i-1]),(255,255,0),2)\n",
    "\n",
    "        #Polynomial Regresssion\n",
    "            for x in XList:\n",
    "                y=int(A*x**2 + B*x +C)\n",
    "                cv2.circle(imgContours,(x,y),5,(255,0,255),cv2.FILLED)\n",
    "\n",
    "        #Prediction\n",
    "        #X values 338 to 430\n",
    "        #Y values 598\n",
    "            if len(posListX)<10 and prediction==False:\n",
    "                x=int(((-B-math.sqrt(B**2-4*A*(C-590)))/(2*A)))\n",
    "                prediction=338<x<430\n",
    "            if prediction:\n",
    "                 cvzone.putTextRect(imgContours,\"Basket\",(50,100),scale=7,thickness=5,colorR=(0,255,0),offset=20)\n",
    "            else:\n",
    "                 cvzone.putTextRect(imgContours,\"No Basket\",(50,100),scale=7,thickness=5,colorR=(0,0,255),offset=20)\n",
    "\n",
    "\n",
    "\n",
    "        #Resize\n",
    "        imgContours = cv2.resize(imgContours, None, fx=0.7, fy=0.7)\n",
    "\n",
    "        #Display\n",
    "        cv2.imshow(\"Image Color\",imgContours)\n",
    "    if cv2.waitKey(100) & 0xFF == ord('q'):\n",
    "        break\n",
    "\n",
    "cap.release()\n",
    "cv2.destroyAllWindows()\n"
   ]
  },
  {
   "cell_type": "code",
   "execution_count": null,
   "id": "9540b995",
   "metadata": {},
   "outputs": [],
   "source": []
  }
 ],
 "metadata": {
  "kernelspec": {
   "display_name": "Python 3 (ipykernel)",
   "language": "python",
   "name": "python3"
  },
  "language_info": {
   "codemirror_mode": {
    "name": "ipython",
    "version": 3
   },
   "file_extension": ".py",
   "mimetype": "text/x-python",
   "name": "python",
   "nbconvert_exporter": "python",
   "pygments_lexer": "ipython3",
   "version": "3.11.4"
  }
 },
 "nbformat": 4,
 "nbformat_minor": 5
}
